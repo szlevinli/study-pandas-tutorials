{
 "cells": [
  {
   "cell_type": "code",
   "execution_count": 10,
   "metadata": {},
   "outputs": [],
   "source": [
    "from pathlib import Path\n",
    "import pandas as pd\n",
    "from typing import Dict\n",
    "from irregular.org import Org\n",
    "from irregular.contract import Contract\n",
    "from irregular.config import Config\n"
   ]
  },
  {
   "cell_type": "code",
   "execution_count": 11,
   "metadata": {},
   "outputs": [],
   "source": [
    "# data's directory path\n",
    "path_data_dir = Path.cwd().parent / 'data'\n",
    "# irregular constract files's directory path\n",
    "path_irregular_contract_dir = path_data_dir / 'irregular_contracts'\n",
    "# get irregular contract files handle\n",
    "irr_filenames = [f for f in sorted(\n",
    "    path_irregular_contract_dir.glob('20*.xlsx'))]\n"
   ]
  },
  {
   "cell_type": "code",
   "execution_count": 12,
   "metadata": {},
   "outputs": [
    {
     "data": {
      "text/plain": [
       "(PosixPath('/Users/levin/workspace/git-repositories/anaconda/study-pandas-tutorials/Work/data/irregular_contracts/20220428.xlsx'),\n",
       " PosixPath('/Users/levin/workspace/git-repositories/anaconda/study-pandas-tutorials/Work/data/irregular_contracts/config.old.xlsx'))"
      ]
     },
     "execution_count": 12,
     "metadata": {},
     "output_type": "execute_result"
    }
   ],
   "source": [
    "path_file = irr_filenames[-1]\n",
    "path_config = path_irregular_contract_dir / 'config.old.xlsx'\n",
    "path_file, path_config\n"
   ]
  },
  {
   "cell_type": "code",
   "execution_count": 13,
   "metadata": {},
   "outputs": [
    {
     "name": "stderr",
     "output_type": "stream",
     "text": [
      "/var/folders/p7/6ch6lkc521b7mw6l51zmx4v80000gn/T/ipykernel_36050/1125705859.py:7: FutureWarning: Inferring datetime64[ns] from data containing strings is deprecated and will be removed in a future version. To retain the old behavior explicitly pass Series(data, dtype=datetime64[ns])\n",
      "  dfs[key] = pd.read_excel(xls, sheet_name)\n"
     ]
    }
   ],
   "source": [
    "# read config\n",
    "config = Config(path_config)\n",
    "# read data from excel sheet\n",
    "dfs: Dict[str, pd.DataFrame] = {}\n",
    "xls = pd.ExcelFile(path_file)\n",
    "for sheet_name, key in config.excel_sheet_dict().items():\n",
    "    dfs[key] = pd.read_excel(xls, sheet_name)\n",
    "# read org\n",
    "df_org: pd.DataFrame = dfs['org'] \\\n",
    "    .rename(columns=config.org_code_dict())\n",
    "# read project\n",
    "df_project: pd.DataFrame = dfs['projects'] \\\n",
    "    .rename(columns=config.project_code_dict())\n",
    "# read irregular contract\n",
    "df_irr_contract: pd.DataFrame = dfs['irr'] \\\n",
    "    .rename(columns=config.contract_code_dict())\n",
    "# TODO: should be deleted\n",
    "# duplicated by contract NO.\n",
    "df_irr_contract = df_irr_contract.drop_duplicates(\n",
    "    subset='contract_no'\n",
    ")\n",
    "# TODO: ---END\n",
    "# apply whitelist\n",
    "df_whitelist = pd.read_excel(path_irregular_contract_dir / 'whitelist.xlsx')\n",
    "df_irr_contract = df_irr_contract[~df_irr_contract['contract_no']\n",
    "                                  .isin(df_whitelist['contract_no'])]\n",
    "# extract incremental irregular contract\n",
    "df_increase: pd.DataFrame = None\n",
    "if len(irr_filenames) > 1:\n",
    "    df_lp = pd.read_excel(irr_filenames[-2], sheet_name='02不规范合同分子') \\\n",
    "        .rename(columns=config.contract_code_dict())\n",
    "    df_increase = df_irr_contract[~df_irr_contract['contract_no']\n",
    "                                  .isin(df_lp['contract_no'])]\n",
    "else:\n",
    "    df_increase = df_irr_contract\n",
    "# read contracts. also call 'denominator'\n",
    "df_contracts = dfs['contracts'] \\\n",
    "    .rename(columns=config.contract_code_dict())\n"
   ]
  },
  {
   "cell_type": "code",
   "execution_count": 14,
   "metadata": {},
   "outputs": [],
   "source": [
    "# make org\n",
    "org = Org(df_org, df_project)\n",
    "# make irregular contract\n",
    "contract_irr = Contract(\n",
    "    df_irr_contract,\n",
    "    config\n",
    ")\n",
    "# make contract. Also call 'denominator'\n",
    "contracts = Contract(\n",
    "    df_contracts,\n",
    "    config\n",
    ")\n",
    "# make incremental contract\n",
    "contract_increase = Contract(\n",
    "    df_increase,\n",
    "    config\n",
    ")\n"
   ]
  },
  {
   "cell_type": "code",
   "execution_count": 15,
   "metadata": {},
   "outputs": [],
   "source": [
    "grouped_list = ['branch_name', 'dept_name', 'category']\n",
    "# category for irregular contract\n",
    "df_category = df_irr_contract \\\n",
    "    .drop_duplicates(subset=['category'])[['category']]\n",
    "# cross department with category\n",
    "df_dept_cross = pd.merge(\n",
    "    org.department(),\n",
    "    df_category,\n",
    "    how='cross'\n",
    ")[grouped_list].set_index(grouped_list)\n"
   ]
  },
  {
   "cell_type": "code",
   "execution_count": 16,
   "metadata": {},
   "outputs": [],
   "source": [
    "# group by department\n",
    "df_irr_grouped = contract_irr.counted_with_org(org) \\\n",
    "    .groupby(grouped_list)[['count']] \\\n",
    "    .sum() \\\n",
    "    .rename(columns={\n",
    "        'count': 'irr_count'\n",
    "    })\n",
    "df_contracts_grouped = contracts.counted_with_org(org) \\\n",
    "    .groupby(grouped_list)[['count']] \\\n",
    "    .sum()\n",
    "df_counted = pd.concat([\n",
    "    df_irr_grouped,\n",
    "    df_contracts_grouped],\n",
    "    axis=1)\n",
    "df_counted = pd.concat([\n",
    "    df_dept_cross,\n",
    "    df_counted],\n",
    "    axis=1)\n",
    "df_counted['ratio'] = round(\n",
    "    df_counted['irr_count'] /\n",
    "    df_counted['count'],\n",
    "    4)\n",
    "df_counted['irr_count_by_branch'] = df_counted \\\n",
    "    .groupby(level=(0, 2))['irr_count'] \\\n",
    "    .transform('sum')\n",
    "df_counted['count_by_branch'] = df_counted \\\n",
    "    .groupby(level=(0, 2))['count'] \\\n",
    "    .transform('sum')\n",
    "df_counted['average_ratio_by_branch'] = round(\n",
    "    df_counted['irr_count_by_branch'] /\n",
    "    df_counted['count_by_branch'],\n",
    "    4\n",
    ")\n",
    "df_counted['irr_count_by_division'] = df_counted \\\n",
    "    .groupby(level=(2))['irr_count'] \\\n",
    "    .transform('sum')\n",
    "df_counted['count_by_division'] = df_counted \\\n",
    "    .groupby(level=(2))['count'] \\\n",
    "    .transform('sum')\n",
    "df_counted['average_ratio_by_division'] = round(\n",
    "    df_counted['irr_count_by_division'] /\n",
    "    df_counted['count_by_division'],\n",
    "    4\n",
    ")\n",
    "df_counted = df_counted.fillna(0).convert_dtypes()\n",
    "df_counted.index.names = config.analysis_row_dict().values()\n",
    "df_counted_report = df_counted.rename(columns=config.analysis_column_dict())\n"
   ]
  },
  {
   "cell_type": "code",
   "execution_count": 17,
   "metadata": {},
   "outputs": [],
   "source": [
    "# group by branch\n",
    "df_reported_branch = df_counted_report.droplevel(1, axis=0)\n",
    "df_reported_branch = df_reported_branch[\n",
    "    ~df_reported_branch.index.duplicated()] \\\n",
    "    .iloc[:, 3:] \\\n",
    "    .sort_index(level=0) \\\n",
    "    .reset_index()\n"
   ]
  },
  {
   "cell_type": "code",
   "execution_count": 18,
   "metadata": {},
   "outputs": [],
   "source": [
    "def analysis_by_branch(\n",
    "    df_counted: pd.DataFrame\n",
    ") -> pd.DataFrame:\n",
    "    df = df_counted.droplevel(1, axis=0)\n",
    "    df = df[~df.index.duplicated()].iloc[:, [5]] \\\n",
    "        .unstack() \\\n",
    "        .droplevel(0, axis=1) \n",
    "\n",
    "    return df\n"
   ]
  },
  {
   "cell_type": "code",
   "execution_count": 45,
   "metadata": {},
   "outputs": [],
   "source": [
    "out_dir = Path.cwd().parent / 'output' / 'irregular_contracts'\n",
    "if not out_dir.exists():\n",
    "    out_dir.mkdir()\n",
    "\n",
    "out_filename = f'{path_file.stem}-租赁平台-合同规范性检查（下发）.xlsx'\n",
    "\n",
    "out_path = out_dir / out_filename\n",
    "\n",
    "with pd.ExcelWriter(out_path) as writer:\n",
    "    contract_irr.report(org.project()).to_excel(writer, sheet_name='不合规范合同清单')\n",
    "    contract_increase.report(org.project()).to_excel(\n",
    "        writer, sheet_name='不合规范合同清单(增量)')\n",
    "    df_counted_report.to_excel(writer, sheet_name='统计结果')\n",
    "\n",
    "out_analysis_path = out_dir / f'{path_file.stem}-analysis.xlsx'\n",
    "\n",
    "with pd.ExcelWriter(out_analysis_path) as writer:\n",
    "    analysis_by_branch(df_counted_report).to_excel(writer, sheet_name='Sheet1')\n",
    "    df_reported_branch.to_excel(writer, sheet_name='Sheet2')\n",
    "\n",
    "org.project().to_excel(\n",
    "    out_dir / 'project_with_org.xlsx'\n",
    ")\n"
   ]
  },
  {
   "cell_type": "code",
   "execution_count": 46,
   "metadata": {},
   "outputs": [
    {
     "data": {
      "text/html": [
       "<div>\n",
       "<style scoped>\n",
       "    .dataframe tbody tr th:only-of-type {\n",
       "        vertical-align: middle;\n",
       "    }\n",
       "\n",
       "    .dataframe tbody tr th {\n",
       "        vertical-align: top;\n",
       "    }\n",
       "\n",
       "    .dataframe thead th {\n",
       "        text-align: right;\n",
       "    }\n",
       "</style>\n",
       "<table border=\"1\" class=\"dataframe\">\n",
       "  <thead>\n",
       "    <tr style=\"text-align: right;\">\n",
       "      <th>不合规情况</th>\n",
       "      <th>倒签</th>\n",
       "      <th>应算未算</th>\n",
       "      <th>应结未结</th>\n",
       "      <th>综合评分</th>\n",
       "    </tr>\n",
       "    <tr>\n",
       "      <th>分公司</th>\n",
       "      <th></th>\n",
       "      <th></th>\n",
       "      <th></th>\n",
       "      <th></th>\n",
       "    </tr>\n",
       "  </thead>\n",
       "  <tbody>\n",
       "    <tr>\n",
       "      <th>番禺科技园</th>\n",
       "      <td>0.0</td>\n",
       "      <td>0.0377</td>\n",
       "      <td>0.0755</td>\n",
       "      <td>0.037733</td>\n",
       "    </tr>\n",
       "    <tr>\n",
       "      <th>文化产业公司</th>\n",
       "      <td>0.0</td>\n",
       "      <td>0.0625</td>\n",
       "      <td>0.0625</td>\n",
       "      <td>0.041667</td>\n",
       "    </tr>\n",
       "    <tr>\n",
       "      <th>产园-青岛公司</th>\n",
       "      <td>0.0</td>\n",
       "      <td>0.0</td>\n",
       "      <td>0.3333</td>\n",
       "      <td>0.111100</td>\n",
       "    </tr>\n",
       "    <tr>\n",
       "      <th>南油平方</th>\n",
       "      <td>0.4</td>\n",
       "      <td>0.0</td>\n",
       "      <td>0.0</td>\n",
       "      <td>0.133333</td>\n",
       "    </tr>\n",
       "    <tr>\n",
       "      <th>园区运营中心</th>\n",
       "      <td>0.0294</td>\n",
       "      <td>0.3077</td>\n",
       "      <td>0.2051</td>\n",
       "      <td>0.180733</td>\n",
       "    </tr>\n",
       "    <tr>\n",
       "      <th>产园-重庆公司</th>\n",
       "      <td>0.1277</td>\n",
       "      <td>0.0667</td>\n",
       "      <td>0.5312</td>\n",
       "      <td>0.241867</td>\n",
       "    </tr>\n",
       "    <tr>\n",
       "      <th>产园-武汉公司</th>\n",
       "      <td>0.1333</td>\n",
       "      <td>0.25</td>\n",
       "      <td>0.4167</td>\n",
       "      <td>0.266667</td>\n",
       "    </tr>\n",
       "    <tr>\n",
       "      <th>产园-南京公司</th>\n",
       "      <td>0.3483</td>\n",
       "      <td>0.0448</td>\n",
       "      <td>0.5735</td>\n",
       "      <td>0.322200</td>\n",
       "    </tr>\n",
       "    <tr>\n",
       "      <th>产园-杭州公司</th>\n",
       "      <td>0.378</td>\n",
       "      <td>0.0306</td>\n",
       "      <td>0.6545</td>\n",
       "      <td>0.354367</td>\n",
       "    </tr>\n",
       "    <tr>\n",
       "      <th>产园-深圳公司</th>\n",
       "      <td>0.5769</td>\n",
       "      <td>0.1931</td>\n",
       "      <td>0.3758</td>\n",
       "      <td>0.381933</td>\n",
       "    </tr>\n",
       "  </tbody>\n",
       "</table>\n",
       "</div>"
      ],
      "text/plain": [
       "不合规情况        倒签    应算未算    应结未结      综合评分\n",
       "分公司                                      \n",
       "番禺科技园       0.0  0.0377  0.0755  0.037733\n",
       "文化产业公司      0.0  0.0625  0.0625  0.041667\n",
       "产园-青岛公司     0.0     0.0  0.3333  0.111100\n",
       "南油平方        0.4     0.0     0.0  0.133333\n",
       "园区运营中心   0.0294  0.3077  0.2051  0.180733\n",
       "产园-重庆公司  0.1277  0.0667  0.5312  0.241867\n",
       "产园-武汉公司  0.1333    0.25  0.4167  0.266667\n",
       "产园-南京公司  0.3483  0.0448  0.5735  0.322200\n",
       "产园-杭州公司   0.378  0.0306  0.6545  0.354367\n",
       "产园-深圳公司  0.5769  0.1931  0.3758  0.381933"
      ]
     },
     "execution_count": 46,
     "metadata": {},
     "output_type": "execute_result"
    }
   ],
   "source": [
    "df_analysis_by_branch = analysis_by_branch(df_counted_report)\n",
    "df_analysis_by_branch['综合评分'] = df_analysis_by_branch.mean(axis=1)\n",
    "df_analysis_by_branch = df_analysis_by_branch.sort_values(['综合评分'])\n",
    "df_analysis_by_branch"
   ]
  },
  {
   "cell_type": "code",
   "execution_count": 47,
   "metadata": {},
   "outputs": [],
   "source": [
    "import matplotlib.pyplot as plt\n",
    "plt.rcParams['font.sans-serif'] = ['Arial Unicode MS']"
   ]
  },
  {
   "cell_type": "code",
   "execution_count": 57,
   "metadata": {},
   "outputs": [
    {
     "data": {
      "text/plain": [
       "<AxesSubplot:xlabel='分公司'>"
      ]
     },
     "execution_count": 57,
     "metadata": {},
     "output_type": "execute_result"
    },
    {
     "data": {
      "image/png": "[encoded data removed]",
      "text/plain": [
       "<Figure size 576x432 with 1 Axes>"
      ]
     },
     "metadata": {
      "needs_background": "dark"
     },
     "output_type": "display_data"
    }
   ],
   "source": [
    "plt_analysis = df_analysis_by_branch.iloc[:, :3].plot.bar(figsize=(8, 6), stacked=True, rot=45)\n",
    "plt_analysis.get_figure().savefig(out_dir / 'a.png', dpi=800, bbox_inches='tight')\n",
    "plt_analysis"
   ]
  }
 ],
 "metadata": {
  "interpreter": {
   "hash": "c47b3fd94286b9788ca24a5dc76812a7f3d81a041a874dbfccf1db12dc8e64b6"
  },
  "kernelspec": {
   "display_name": "Python 3 (ipykernel)",
   "language": "python",
   "name": "python3"
  },
  "language_info": {
   "codemirror_mode": {
    "name": "ipython",
    "version": 3
   },
   "file_extension": ".py",
   "mimetype": "text/x-python",
   "name": "python",
   "nbconvert_exporter": "python",
   "pygments_lexer": "ipython3",
   "version": "3.8.5"
  }
 },
 "nbformat": 4,
 "nbformat_minor": 2
}
