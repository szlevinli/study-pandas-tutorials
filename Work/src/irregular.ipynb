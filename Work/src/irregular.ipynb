{
 "cells": [
  {
   "cell_type": "code",
   "execution_count": 126,
   "metadata": {},
   "outputs": [],
   "source": [
    "from pathlib import Path\n",
    "import pandas as pd\n",
    "from typing import Dict\n",
    "from irregular.org import Org\n",
    "from irregular.contract import Contract\n",
    "from irregular.config import Config\n"
   ]
  },
  {
   "cell_type": "code",
   "execution_count": 127,
   "metadata": {},
   "outputs": [],
   "source": [
    "# data's directory path\n",
    "path_data_dir = Path.cwd().parent / 'data'\n",
    "# irregular constract files's directory path\n",
    "path_irregular_contract_dir = path_data_dir / 'irregular_contracts'\n",
    "# get irregular contract files handle\n",
    "irr_filenames = [f for f in sorted(\n",
    "    path_irregular_contract_dir.glob('20*.xlsx'))]\n"
   ]
  },
  {
   "cell_type": "code",
   "execution_count": 128,
   "metadata": {},
   "outputs": [
    {
     "data": {
      "text/plain": [
       "(PosixPath('/Users/levin/workspace/git-repositories/anaconda/study-pandas-tutorials/Work/data/irregular_contracts/20220414.xlsx'),\n",
       " PosixPath('/Users/levin/workspace/git-repositories/anaconda/study-pandas-tutorials/Work/data/irregular_contracts/config.xlsx'))"
      ]
     },
     "execution_count": 128,
     "metadata": {},
     "output_type": "execute_result"
    }
   ],
   "source": [
    "path_file = irr_filenames[-1]\n",
    "path_config = path_irregular_contract_dir / 'config.xlsx'\n",
    "path_file, path_config\n"
   ]
  },
  {
   "cell_type": "code",
   "execution_count": 129,
   "metadata": {},
   "outputs": [],
   "source": [
    "# read config\n",
    "config = Config(path_config)\n",
    "# read data from excel sheet\n",
    "dfs: Dict[str, pd.DataFrame] = {}\n",
    "xls = pd.ExcelFile(path_file)\n",
    "for sheet_name, key in config.excel_sheet_dict().items():\n",
    "    dfs[key] = pd.read_excel(xls, sheet_name)\n",
    "# read org\n",
    "df_org: pd.DataFrame = dfs['org'] \\\n",
    "    .rename(columns=config.org_code_dict())\n",
    "# read project\n",
    "df_project: pd.DataFrame = dfs['projects'] \\\n",
    "    .rename(columns=config.project_code_dict())\n",
    "# read irregular contract\n",
    "df_irr_contract: pd.DataFrame = dfs['irr'] \\\n",
    "    .rename(columns=config.contract_code_dict())\n",
    "# TODO: should be deleted\n",
    "# duplicated by contract NO.\n",
    "df_irr_contract = df_irr_contract.drop_duplicates(\n",
    "    subset='contract_no'\n",
    ")\n",
    "# TODO: ---END\n",
    "# apply whitelist\n",
    "df_whitelist = pd.read_excel(path_irregular_contract_dir / 'whitelist.xlsx')\n",
    "df_irr_contract = df_irr_contract[~df_irr_contract['contract_no']\n",
    "                                  .isin(df_whitelist['contract_no'])]\n",
    "# extract incremental irregular contract\n",
    "df_increase: pd.DataFrame = None\n",
    "if len(irr_filenames) > 1:\n",
    "    df_lp = pd.read_excel(irr_filenames[-2], sheet_name='不规范合同') \\\n",
    "        .rename(columns=config.contract_code_dict())\n",
    "    df_increase = df_irr_contract[~df_irr_contract['contract_no']\n",
    "                                  .isin(df_lp['contract_no'])]\n",
    "else:\n",
    "    df_increase = df_irr_contract\n",
    "# read contracts. also call 'denominator'\n",
    "df_contracts = dfs['contracts'] \\\n",
    "    .rename(columns=config.contract_code_dict())\n"
   ]
  },
  {
   "cell_type": "code",
   "execution_count": 130,
   "metadata": {},
   "outputs": [],
   "source": [
    "# make org\n",
    "org = Org(df_org, df_project)\n",
    "# make irregular contract\n",
    "contract_irr = Contract(\n",
    "    df_irr_contract,\n",
    "    config\n",
    ")\n",
    "# make contract. Also call 'denominator'\n",
    "contracts = Contract(\n",
    "    df_contracts,\n",
    "    config\n",
    ")\n",
    "# make incremental contract\n",
    "contract_increase = Contract(\n",
    "    df_increase,\n",
    "    config\n",
    ")\n"
   ]
  },
  {
   "cell_type": "code",
   "execution_count": 131,
   "metadata": {},
   "outputs": [],
   "source": [
    "grouped_list = ['branch_name', 'dept_name', 'category']\n",
    "# category for irregular contract\n",
    "df_category = df_irr_contract \\\n",
    "    .drop_duplicates(subset=['category'])[['category']]\n",
    "# cross department with category\n",
    "df_dept_cross = pd.merge(\n",
    "    org.department(),\n",
    "    df_category,\n",
    "    how='cross'\n",
    ")[grouped_list].set_index(grouped_list)\n"
   ]
  },
  {
   "cell_type": "code",
   "execution_count": 132,
   "metadata": {},
   "outputs": [],
   "source": [
    "# group by department\n",
    "df_irr_grouped = contract_irr.counted_with_org(org) \\\n",
    "    .groupby(grouped_list)[['count']] \\\n",
    "    .sum() \\\n",
    "    .rename(columns={\n",
    "        'count': 'irr_count'\n",
    "    })\n",
    "df_contracts_grouped = contracts.counted_with_org(org) \\\n",
    "    .groupby(grouped_list)[['count']] \\\n",
    "    .sum()\n",
    "df_counted = pd.concat([\n",
    "    df_irr_grouped,\n",
    "    df_contracts_grouped],\n",
    "    axis=1)\n",
    "df_counted = pd.concat([\n",
    "    df_dept_cross,\n",
    "    df_counted],\n",
    "    axis=1)\n",
    "df_counted['ratio'] = round(\n",
    "    df_counted['irr_count'] /\n",
    "    df_counted['count'],\n",
    "    4)\n",
    "df_counted['irr_count_by_branch'] = df_counted \\\n",
    "    .groupby(level=(0, 2))['irr_count'] \\\n",
    "    .transform('sum')\n",
    "df_counted['count_by_branch'] = df_counted \\\n",
    "    .groupby(level=(0, 2))['count'] \\\n",
    "    .transform('sum')\n",
    "df_counted['average_ratio_by_branch'] = round(\n",
    "    df_counted['irr_count_by_branch'] /\n",
    "    df_counted['count_by_branch'],\n",
    "    4\n",
    ")\n",
    "df_counted['irr_count_by_division'] = df_counted \\\n",
    "    .groupby(level=(2))['irr_count'] \\\n",
    "    .transform('sum')\n",
    "df_counted['count_by_division'] = df_counted \\\n",
    "    .groupby(level=(2))['count'] \\\n",
    "    .transform('sum')\n",
    "df_counted['average_ratio_by_division'] = round(\n",
    "    df_counted['irr_count_by_division'] /\n",
    "    df_counted['count_by_division'],\n",
    "    4\n",
    ")\n",
    "df_counted = df_counted.fillna(0).convert_dtypes()\n",
    "df_counted.index.names = config.analysis_row_dict().values()\n",
    "df_counted_report = df_counted.rename(columns=config.analysis_column_dict())\n"
   ]
  },
  {
   "cell_type": "code",
   "execution_count": 133,
   "metadata": {},
   "outputs": [],
   "source": [
    "def analysis_by_branch(\n",
    "    df_counted: pd.DataFrame\n",
    ") -> pd.DataFrame:\n",
    "    df = df_counted.droplevel(1, axis=0)\n",
    "    df = df[~df.index.duplicated()].iloc[:, [5]] \\\n",
    "        .unstack() \\\n",
    "        .droplevel(0, axis=1)\n",
    "\n",
    "    return df\n"
   ]
  },
  {
   "cell_type": "code",
   "execution_count": 134,
   "metadata": {},
   "outputs": [],
   "source": [
    "out_dir = Path.cwd().parent / 'output'\n",
    "if not out_dir.exists():\n",
    "    out_dir.mkdir()\n",
    "\n",
    "out_filename = f'{path_file.stem}-租赁平台-合同规范性检查（下发）.xlsx'\n",
    "\n",
    "out_path = out_dir / out_filename\n",
    "\n",
    "with pd.ExcelWriter(out_path) as writer:\n",
    "    contract_irr.report(org.project()).to_excel(writer, sheet_name='不合规范合同清单')\n",
    "    contract_increase.report(org.project()).to_excel(\n",
    "        writer, sheet_name='不合规范合同清单(增量)')\n",
    "    df_counted_report.to_excel(writer, sheet_name='统计结果')\n",
    "\n",
    "analysis_by_branch(df_counted_report).to_excel(\n",
    "    out_dir / f'{path_file.stem}-analysis.xlsx')\n"
   ]
  }
 ],
 "metadata": {
  "interpreter": {
   "hash": "c47b3fd94286b9788ca24a5dc76812a7f3d81a041a874dbfccf1db12dc8e64b6"
  },
  "kernelspec": {
   "display_name": "Python 3 (ipykernel)",
   "language": "python",
   "name": "python3"
  },
  "language_info": {
   "codemirror_mode": {
    "name": "ipython",
    "version": 3
   },
   "file_extension": ".py",
   "mimetype": "text/x-python",
   "name": "python",
   "nbconvert_exporter": "python",
   "pygments_lexer": "ipython3",
   "version": "3.8.5"
  }
 },
 "nbformat": 4,
 "nbformat_minor": 2
}
