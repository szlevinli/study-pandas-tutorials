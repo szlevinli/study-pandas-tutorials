{
 "cells": [
  {
   "cell_type": "markdown",
   "metadata": {},
   "source": [
    "# Analyze non-compliant contracts with Sqlite"
   ]
  },
  {
   "cell_type": "code",
   "execution_count": 28,
   "metadata": {},
   "outputs": [],
   "source": [
    "from pathlib import Path\n",
    "import sqlite3 as lt\n",
    "import datetime as dt\n",
    "from dateutil import tz\n"
   ]
  },
  {
   "cell_type": "markdown",
   "metadata": {},
   "source": [
    "## How to manipulate dates\n",
    "\n",
    "### From local date time string"
   ]
  },
  {
   "cell_type": "code",
   "execution_count": 70,
   "metadata": {},
   "outputs": [
    {
     "name": "stdout",
     "output_type": "stream",
     "text": [
      "UTC ISO String: 2022-02-24T16:00:00+00:00\n",
      "Local: 2022-02-25T00:00:00+08:00\n"
     ]
    }
   ],
   "source": [
    "date_str = '2022-02-25'\n",
    "# construct local datetime object\n",
    "dt_ = dt.datetime.fromisoformat(date_str)\n",
    "# convert to UTC\n",
    "dt_utc = dt_.astimezone(dt.timezone.utc)\n",
    "# format to ISO string for store to db\n",
    "dt_iso_str = dt_utc.isoformat()\n",
    "\n",
    "# construct datetime from UTC ISO string (from db)\n",
    "dt_local = dt.datetime.fromisoformat(dt_iso_str)\n",
    "# convert to local\n",
    "dt_local = dt_local.astimezone(tz.tzlocal())\n",
    "\n",
    "print(f'UTC ISO String: {dt_iso_str}')\n",
    "print(f'Local: {dt_local.isoformat()}')\n"
   ]
  },
  {
   "cell_type": "markdown",
   "metadata": {},
   "source": [
    "### From UTC current date timestamp"
   ]
  },
  {
   "cell_type": "code",
   "execution_count": 75,
   "metadata": {},
   "outputs": [
    {
     "name": "stdout",
     "output_type": "stream",
     "text": [
      "UTC ISO String: 2022-02-27T01:24:55.042309+00:00\n",
      "Local: 2022-02-27T09:24:55.042309+08:00\n"
     ]
    }
   ],
   "source": [
    "# create UTC current datetime object\n",
    "now_utc = dt.datetime.utcnow()\n",
    "# because by default datetime objects have no time zone\n",
    "# so need to set the time zone to UTC\n",
    "now_utc = now_utc.replace(tzinfo=dt.timezone.utc)\n",
    "# format to ISO string for store to db\n",
    "now_utc_iso_str = now_utc.isoformat()\n",
    "\n",
    "\n",
    "# construct datetime from UTC ISO string (from db)\n",
    "dt_local = dt.datetime.fromisoformat(now_utc_iso_str)\n",
    "# convert to local\n",
    "dt_local = dt_local.astimezone(tz.tzlocal())\n",
    "\n",
    "print(f'UTC ISO String: {now_utc_iso_str}')\n",
    "print(f'Local: {dt_local.isoformat()}')"
   ]
  },
  {
   "cell_type": "code",
   "execution_count": 68,
   "metadata": {},
   "outputs": [
    {
     "data": {
      "text/plain": [
       "PosixPath('/Users/levin/workspace/git-repositories/anaconda/study-pandas-tutorials/Work/db/dev.db')"
      ]
     },
     "execution_count": 68,
     "metadata": {},
     "output_type": "execute_result"
    }
   ],
   "source": [
    "db_path = Path.cwd() / 'db' / 'dev.db'\n",
    "db_path"
   ]
  },
  {
   "cell_type": "code",
   "execution_count": 69,
   "metadata": {},
   "outputs": [
    {
     "name": "stdout",
     "output_type": "stream",
     "text": [
      "('2022-02-26 14:20:20.237085', 1.0, 10.5)\n",
      "('2022-02-26 14:21:36.316219', 1.0, 10.5)\n",
      "('2022-02-26T14:56:25.544220+00:00', 1.0, 10.5)\n",
      "('2022-02-26T15:17:03.201178+00:00', 1.0, 10.5)\n"
     ]
    }
   ],
   "source": [
    "con = lt.connect(db_path)\n",
    "# con = lt.connect('db/dev.db')\n",
    "cur = con.cursor()\n",
    "\n",
    "# cur.execute('''\n",
    "#   CREATE TABLE tmp\n",
    "#     (date text, id real, qty real)\n",
    "#             ''')\n",
    "\n",
    "cur.execute('insert into tmp values (?, ? , ?)',\n",
    "            (dt.datetime.utcnow().replace(tzinfo=dt.timezone.utc).isoformat(), 1, 10.5))\n",
    "\n",
    "con.commit()\n",
    "\n",
    "for row in cur.execute('select * from tmp'):\n",
    "    print(row)\n",
    "\n",
    "con.close()\n"
   ]
  },
  {
   "cell_type": "code",
   "execution_count": 20,
   "metadata": {},
   "outputs": [
    {
     "name": "stdout",
     "output_type": "stream",
     "text": [
      "2022-02-26 14:09:27.549278\n"
     ]
    }
   ],
   "source": [
    "con = lt.connect(':memory:')\n",
    "\n",
    "cur = con.cursor()\n",
    "cur.execute('select ?', (dt.datetime.utcnow(),))\n",
    "print(cur.fetchone()[0])\n",
    "con.close()"
   ]
  },
  {
   "cell_type": "code",
   "execution_count": 12,
   "metadata": {},
   "outputs": [],
   "source": [
    "import calendar"
   ]
  },
  {
   "cell_type": "code",
   "execution_count": 19,
   "metadata": {},
   "outputs": [
    {
     "name": "stdout",
     "output_type": "stream",
     "text": [
      "2022-02-26T14:08:59.258967\n",
      "2022-02-26 22:08:59.259075\n"
     ]
    }
   ],
   "source": [
    "print(dt.datetime.utcnow().isoformat())\n",
    "print(dt.datetime.now())"
   ]
  }
 ],
 "metadata": {
  "interpreter": {
   "hash": "c47b3fd94286b9788ca24a5dc76812a7f3d81a041a874dbfccf1db12dc8e64b6"
  },
  "kernelspec": {
   "display_name": "Python 3.8.5 64-bit ('base': conda)",
   "language": "python",
   "name": "python3"
  },
  "language_info": {
   "codemirror_mode": {
    "name": "ipython",
    "version": 3
   },
   "file_extension": ".py",
   "mimetype": "text/x-python",
   "name": "python",
   "nbconvert_exporter": "python",
   "pygments_lexer": "ipython3",
   "version": "3.8.5"
  },
  "orig_nbformat": 4
 },
 "nbformat": 4,
 "nbformat_minor": 2
}
